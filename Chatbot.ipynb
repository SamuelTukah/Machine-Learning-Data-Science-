{
 "cells": [
  {
   "cell_type": "code",
   "execution_count": null,
   "metadata": {},
   "outputs": [],
   "source": [
    "responses = {\n",
    "\"hi\": \"Hello there! How can I assist you today?\",\n",
    "\"how are you\": \"I'm a bot, so I don't have feelings, but I'm functioning properly!\",\n",
    "\"bye\": \"Goodbye! Have a great day!\",\n",
    "\"help\": \"Sure, I can help you. What do you need assistance with?\",\n",
    "}"
   ]
  },
  {
   "cell_type": "code",
   "execution_count": null,
   "metadata": {},
   "outputs": [],
   "source": [
    "def get_bot_response(user_input):\n",
    "    user_input = user_input.lower()\n",
    "    return responses.get(user_input, \"I'm not sure how to respond to that. Can you try asking something else?\")"
   ]
  },
  {
   "cell_type": "code",
   "execution_count": null,
   "metadata": {},
   "outputs": [],
   "source": [
    "while True:\n",
    "    user_input = input(\"You: \")\n",
    "    if user_input.lower() == \"quit\":\n",
    "        print(\"Bot: Goodbye!\")\n",
    "    break\n",
    "    response = get_bot_response(user_input)\n",
    "    print(f\"Bot: {response}\")"
   ]
  }
 ],
 "metadata": {
  "language_info": {
   "name": "python"
  }
 },
 "nbformat": 4,
 "nbformat_minor": 2
}
