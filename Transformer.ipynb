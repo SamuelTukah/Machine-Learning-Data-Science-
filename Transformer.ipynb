{
 "cells": [
  {
   "cell_type": "code",
   "execution_count": null,
   "metadata": {},
   "outputs": [],
   "source": [
    "# Tokenization using Hugging Face's Transformers\n",
    "from transformers import AutoTokenizer\n",
    "tokenizer = AutoTokenizer.from_pretrained(\"gpt-2\")\n",
    "tokens = tokenizer.tokenize(\"A young girl named Alice sits bored by a riverbank...\")\n",
    "\n",
    "#https://www.youtube.com/watch?v=QEaBAZQCtwE&pp=ygUMaHVnZ2luZyBmYWNl\n",
    "#NB:https://learn.udacity.com/paid-courses/cd13232/lessons/e86ad0b9-14d2-4f7f-93c5-57b970501915/concepts/07731ed2-9e3a-4f0b-9c50-9133cbaf5434"
   ]
  },
  {
   "cell_type": "code",
   "execution_count": null,
   "metadata": {},
   "outputs": [],
   "source": [
    "# Embedding and Processing with a Transformer Model\n",
    "from transformers import AutoModel\n",
    "model = AutoModel.from_pretrained(\"gpt-2\")\n",
    "inputs = tokenizer(\"A young girl named Alice sits bored by a riverbank...\", return_tensors=\"pt\")\n",
    "outputs = model(**inputs)\n",
    "last_hidden_states = outputs.last_hidden_state"
   ]
  },
  {
   "cell_type": "code",
   "execution_count": null,
   "metadata": {},
   "outputs": [],
   "source": [
    "# Visualization of Embeddings (Simplified Example)\n",
    "import matplotlib.pyplot as plt\n",
    "plt.imshow(last_hidden_states.detach().numpy()[0], cmap='viridis')\n",
    "plt.colorbar()\n",
    "plt.show()"
   ]
  }
 ],
 "metadata": {
  "language_info": {
   "name": "python"
  }
 },
 "nbformat": 4,
 "nbformat_minor": 2
}
